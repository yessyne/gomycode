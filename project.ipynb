{
 "cells": [
  {
   "cell_type": "code",
   "execution_count": 1,
   "metadata": {},
   "outputs": [],
   "source": [
    "import numpy as np"
   ]
  },
  },
  {
   "cell_type": "code",
   "execution_count": 3,
   "metadata": {},
   "outputs": [],
   "source": [
    "def create_board():\n",
    "    return np.array([[1,0,1],\n",
    "                   [2,0,1],\n",
    "                   [2,1,2]\n",
    "                   ])"
   ]
  },
  {
   "cell_type": "code",
   "execution_count": 4,
   "metadata": {},
   "outputs": [],
   "source": [
    "def empty_places(board):\n",
    "    empty=[]\n",
    "    for x in range(len(board)):\n",
    "        for y in range(len(board)):\n",
    "            if board[x][y]==0:\n",
    "                empty.append((x,y))\n",
    "    return empty"
   ]
  },
  {
   "cell_type": "code",
   "execution_count": 5,
   "metadata": {},
   "outputs": [],
   "source": [
    "def verify_row(board,player):\n",
    "    for x in range(len(board)):\n",
    "        row=board[x,:]\n",
    "        if row[0]==row[1]==row[2]==player:\n",
    "            return True\n",
    "    return False"
   ]
  },
  {
   "cell_type": "code",
   "execution_count": 6,
   "metadata": {},
   "outputs": [],
   "source": [
    "def verify_column(board,player):\n",
    "    for y in range(len(board)):\n",
    "        column=board[:,y]\n",
    "        if column[0]==column[1]==column[2]==player:\n",
    "            return True\n",
    "    return False        "
   ]
  },
  {
   "cell_type": "code",
   "execution_count": 7,
   "metadata": {},
   "outputs": [],
   "source": [
    "def verify_diag(board,player):\n",
    "    if board[0,0]==board[1,1]==board[2,2]==player:\n",
    "        return True\n",
    "    if board[0,2]==board[1,1]==board[2,0]==player:\n",
    "        return True\n",
    "    return False"
   ]
  },
  {
   "cell_type": "code",
   "execution_count": 8,
   "metadata": {},
   "outputs": [],
   "source": [
    "def verify(board,player):\n",
    "    if verify_row(board,player)==True or verify_column(board,player)==True or verify_diag(board,player)==True:\n",
    "        return player\n",
    "    else:\n",
    "        return 0"
   ]
  },
  {
   "cell_type": "code",
   "execution_count": 9,
   "metadata": {},
   "outputs": [],
   "source": [
    "def play_game():\n",
    "    board=create_board()\n",
    "    winner=0\n",
    "    player=1\n",
    "    print(board)\n",
    "    while winner==0:\n",
    "        if player==1:\n",
    "            possible=empty_places(board)\n",
    "            print(possible)\n",
    "            choice=int(input(\"choose cell number\"))\n",
    "            while not 0<=choice<len(possible):\n",
    "                choice=int(input(\"try again\"))\n",
    "            board[possible[choice]]=1\n",
    "            winner=verify(board,player)\n",
    "            player=2\n",
    "        else:\n",
    "            possible=empty_places(board)\n",
    "            choice= random.choice(possible)\n",
    "            board[choice]=2\n",
    "            winner=verify(board,player)\n",
    "            print(board)\n",
    "            player=1\n",
    "        print(\"nnnnnnnnnn\",empty_places(board))\n",
    "        if empty_places(board)==[]:\n",
    "            winner=-1\n",
    "    if winner==1:\n",
    "        print(\"you win\")\n",
    "    elif winner==2:\n",
    "        print(\"you loose\")\n",
    "    else:\n",
    "        print(\"nul\")"
   ]
  },
  {
   "cell_type": "code",
   "execution_count": 10,
   "metadata": {},
   "outputs": [
    {
     "name": "stdout",
     "output_type": "stream",
     "text": [
      "[[1 0 1]\n",
      " [2 0 1]\n",
      " [2 1 2]]\n",
      "[(0, 1), (1, 1)]\n"
     ]
    },
    {
     "name": "stdin",
     "output_type": "stream",
     "text": [
      "choose cell number 1\n"
     ]
    },
    {
     "name": "stdout",
     "output_type": "stream",
     "text": [
      "nnnnnnnnnn [(0, 1)]\n",
      "[[1 2 1]\n",
      " [2 1 1]\n",
      " [2 1 2]]\n",
      "nnnnnnnnnn []\n",
      "nul\n"
     ]
    }
   ],
   "source": [
    "play_game()"
   ]
  },
  {
   "cell_type": "code",
   "execution_count": null,
   "metadata": {},
   "outputs": [],
   "source": []
  },
  {
   "cell_type": "code",
   "execution_count": null,
   "metadata": {},
   "outputs": [],
   "source": []
  }
 ],
 "metadata": {
  "kernelspec": {
   "display_name": "Python 3",
   "language": "python",
   "name": "python3"
  },
  "language_info": {
   "codemirror_mode": {
    "name": "ipython",
    "version": 3
   },
   "file_extension": ".py",
   "mimetype": "text/x-python",
   "name": "python",
   "nbconvert_exporter": "python",
   "pygments_lexer": "ipython3",
   "version": "3.7.6"
  }
 },
 "nbformat": 4,
 "nbformat_minor": 4
}
