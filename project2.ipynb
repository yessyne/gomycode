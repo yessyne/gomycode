{
 "cells": [
  {
   "cell_type": "markdown",
   "metadata": {},
   "source": [
    "Project: CORONA VIRUS TESTER"
   ]
  },
  {
   "cell_type": "code",
   "execution_count": 11,
   "metadata": {},
   "outputs": [],
   "source": [
    "dict={'1':\"do you have cold?\", '2':\"do you have a mild sore throat or do you feel pain in throat?\",'3':\"is your temperature higher than the usal?\", '4' :\"do you have diarrha or feel like vomiting?\",'5': \"do you feel weak?\",'6':\"do you have breathing difficulty or cough?\"}"
   ]
  },
  {
   "cell_type": "code",
   "execution_count": 12,
   "metadata": {},
   "outputs": [],
   "source": [
    "def questioner():\n",
    "    for key, value in dict.items():\n",
    "        print(key, value)\n",
    "        a=input()\n",
    "        while a!=\"yes\" and a!=\"no\":\n",
    "            print(key,value)\n",
    "            a=input()     "
   ]
  },
  {
   "cell_type": "code",
   "execution_count": 13,
   "metadata": {},
   "outputs": [
    {
     "name": "stdout",
     "output_type": "stream",
     "text": [
      "1 do you have cold?\n"
     ]
    },
    {
     "name": "stdin",
     "output_type": "stream",
     "text": [
      " yes\n"
     ]
    },
    {
     "name": "stdout",
     "output_type": "stream",
     "text": [
      "2 do you have a mild sore throat or do you feel pain in throat?\n"
     ]
    },
    {
     "name": "stdin",
     "output_type": "stream",
     "text": [
      " no\n"
     ]
    },
    {
     "name": "stdout",
     "output_type": "stream",
     "text": [
      "3 is your temperature higher than the usal?\n"
     ]
    },
    {
     "name": "stdin",
     "output_type": "stream",
     "text": [
      " no\n"
     ]
    },
    {
     "name": "stdout",
     "output_type": "stream",
     "text": [
      "4 do you have diarrha or feel like vomiting?\n"
     ]
    },
    {
     "name": "stdin",
     "output_type": "stream",
     "text": [
      " no\n"
     ]
    },
    {
     "name": "stdout",
     "output_type": "stream",
     "text": [
      "5 do you feel weak?\n"
     ]
    },
    {
     "name": "stdin",
     "output_type": "stream",
     "text": [
      " no\n"
     ]
    },
    {
     "name": "stdout",
     "output_type": "stream",
     "text": [
      "6 do you have breathing difficulty or cough?\n"
     ]
    },
    {
     "name": "stdin",
     "output_type": "stream",
     "text": [
      " no\n"
     ]
    }
   ],
   "source": [
    "questioner()"
   ]
  },
  {
   "cell_type": "code",
   "execution_count": 14,
   "metadata": {},
   "outputs": [],
   "source": [
    "def test():\n",
    "    a=\"\"\n",
    "    qyes= 0\n",
    "    qno= 0\n",
    "    if a==\"yes\":\n",
    "        qyes+=1\n",
    "    else:\n",
    "        qno+=1\n",
    "    if qyes>qno:\n",
    "        print(\"you are infected by coronavirus call 193!\")\n",
    "    elif qyes==qno:\n",
    "        print(\"you may be infected by coronavirus or some other illnesses take a test to make sure which illness it is\")\n",
    "    else:\n",
    "        print(\"you are okay take care\")"
   ]
  },
  {
   "cell_type": "code",
   "execution_count": 15,
   "metadata": {},
   "outputs": [
    {
     "name": "stdout",
     "output_type": "stream",
     "text": [
      "you are okay take care\n"
     ]
    }
   ],
   "source": [
    "test()"
   ]
  }
 ],
 "metadata": {
  "kernelspec": {
   "display_name": "Python 3",
   "language": "python",
   "name": "python3"
  },
  "language_info": {
   "codemirror_mode": {
    "name": "ipython",
    "version": 3
   },
   "file_extension": ".py",
   "mimetype": "text/x-python",
   "name": "python",
   "nbconvert_exporter": "python",
   "pygments_lexer": "ipython3",
   "version": "3.7.6"
  }
 },
 "nbformat": 4,
 "nbformat_minor": 4
}
