{
 "cells": [
  {
   "cell_type": "code",
   "execution_count": null,
   "metadata": {},
   "outputs": [],
   "source": [
    "import numpy as np"
   ]
  },
  {
   "cell_type": "code",
   "execution_count": null,
   "metadata": {},
   "outputs": [],
   "source": [
    "import random"
   ]
  },
  {
   "cell_type": "code",
   "execution_count": null,
   "metadata": {},
   "outputs": [],
   "source": [
    "def create_board():\n",
    "    return np.array([[0,0,0],\n",
    "                   [0,0,0],\n",
    "                   [0,0,0]\n",
    "                   ])"
   ]
  },
  {
   "cell_type": "code",
   "execution_count": null,
   "metadata": {},
   "outputs": [],
   "source": [
    "board= create_board()"
   ]
  },
  {
   "cell_type": "code",
   "execution_count": null,
   "metadata": {},
   "outputs": [],
   "source": [
    "def empty_places(board):\n",
    "    empty=[]\n",
    "    for x in range(len(board)):\n",
    "        for y in range(len(board)):\n",
    "            if board[x][y]==0:\n",
    "                empty.append((x,y))\n",
    "    return empty\n",
    "print(empty_places(board))"
   ]
  },
  {
   "cell_type": "code",
   "execution_count": null,
   "metadata": {},
   "outputs": [],
   "source": [
    "def verify_row(board,player):\n",
    "    for x in range(len(board)):\n",
    "        row=board[x,:]\n",
    "        if row[0]==row[1]==row[2]==player:\n",
    "            return True\n",
    "    return False"
   ]
  },
  {
   "cell_type": "code",
   "execution_count": null,
   "metadata": {},
   "outputs": [],
   "source": [
    "def verify_column(board,player):\n",
    "    for y in range(len(board)):\n",
    "        column=board[:,y]\n",
    "        if column[0]==column[1]==column[2]==player:\n",
    "            return True\n",
    "    return False        "
   ]
  },
  {
   "cell_type": "code",
   "execution_count": null,
   "metadata": {},
   "outputs": [],
   "source": [
    "def verify_diag(board,player):\n",
    "    if board[0,0]==board[1,1]==board[2,2]==player:\n",
    "        return True\n",
    "    if board[0,2]==board[1,1]==board[2,0]==player:\n",
    "        return True\n",
    "    return False"
   ]
  },
  {
   "cell_type": "code",
   "execution_count": null,
   "metadata": {},
   "outputs": [],
   "source": [
    "def verify(board,player):\n",
    "    if verify_row(board,play)==True or verify_column(board,player)==True or verify_diag(board,play)==True:\n",
    "        return player\n",
    "    else:\n",
    "        return 0"
   ]
  },
  {
   "cell_type": "code",
   "execution_count": null,
   "metadata": {},
   "outputs": [],
   "source": [
    "def play_game():\n",
    "    winner=0\n",
    "    player=1\n",
    "    while winner==0:\n",
    "        if player==1:\n",
    "            print(\"hfrrm^:pl:lp:^m:\")\n",
    "            possible=empty_places(board)\n",
    "            print(possible)\n",
    "            choice=input()\n",
    "            board[possible[choice]]=1\n",
    "            player=2\n",
    "            winner=verify(board,player)\n",
    "        else:\n",
    "            possible=empty_places(board)\n",
    "            choice= random.choice(possible)\n",
    "            board[possible[choice]]=2\n",
    "            winner=verify(board,player)\n",
    "            player=1\n",
    "    if winner==1:\n",
    "        print(\"you win\")\n",
    "    elif winner==2:\n",
    "        print(\"you loose\")"
   ]
  },
  {
   "cell_type": "code",
   "execution_count": 1,
   "metadata": {},
   "outputs": [
    {
     "ename": "NameError",
     "evalue": "name 'play_game' is not defined",
     "output_type": "error",
     "traceback": [
      "\u001b[1;31m---------------------------------------------------------------------------\u001b[0m",
      "\u001b[1;31mNameError\u001b[0m                                 Traceback (most recent call last)",
      "\u001b[1;32m<ipython-input-1-51076e9b4cab>\u001b[0m in \u001b[0;36m<module>\u001b[1;34m\u001b[0m\n\u001b[1;32m----> 1\u001b[1;33m \u001b[0mplay_game\u001b[0m\u001b[1;33m(\u001b[0m\u001b[1;33m)\u001b[0m\u001b[1;33m\u001b[0m\u001b[1;33m\u001b[0m\u001b[0m\n\u001b[0m",
      "\u001b[1;31mNameError\u001b[0m: name 'play_game' is not defined"
     ]
    }
   ],
   "source": [
    "play_game()"
   ]
  }
 ],
 "metadata": {
  "kernelspec": {
   "display_name": "Python 3",
   "language": "python",
   "name": "python3"
  },
  "language_info": {
   "codemirror_mode": {
    "name": "ipython",
    "version": 3
   },
   "file_extension": ".py",
   "mimetype": "text/x-python",
   "name": "python",
   "nbconvert_exporter": "python",
   "pygments_lexer": "ipython3",
   "version": "3.7.6"
  }
 },
 "nbformat": 4,
 "nbformat_minor": 4
}
